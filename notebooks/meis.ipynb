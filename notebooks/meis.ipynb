{
 "cells": [
  {
   "cell_type": "code",
   "execution_count": null,
   "metadata": {
    "collapsed": true,
    "pycharm": {
     "name": "#%%\n"
    }
   },
   "outputs": [],
   "source": [
    "import wandb\n",
    "import numpy as np\n",
    "import matplotlib.pyplot as plt\n",
    "from PIL import Image\n",
    "import pandas as pd\n",
    "import scipy.stats as st\n",
    "import pickle\n",
    "\n",
    "from egg.palettes import palettes"
   ]
  },
  {
   "cell_type": "code",
   "execution_count": null,
   "outputs": [],
   "source": [
    "import seaborn as sns\n",
    "import matplotlib.pyplot as plt\n",
    "from sklearn.linear_model import LinearRegression\n",
    "\n",
    "sns.set_context('talk')\n",
    "\n",
    "def plot(x, y, ax=None, c='#1E88E5', text_y=40):\n",
    "    if ax is None:\n",
    "        ax = plt.gca()\n",
    "\n",
    "    huber = HuberRegressor(fit_intercept=False, epsilon=1.1)\n",
    "    huber.fit(x.to_numpy()[..., None], y.to_numpy())\n",
    "    coef = huber.coef_[0]\n",
    "\n",
    "    ax.plot([0, 50], [0, 50], c='tab:gray', ls='--', lw=2)\n",
    "    ax.plot([0, 50], [0, 50 * coef], c='k', lw=2)\n",
    "    ax.scatter(x, y, s=30, c=c, zorder=10)\n",
    "    ax.axis('equal')\n",
    "    ax.text(5, text_y, f\"$r(x) = {coef:.2f}x$\")\n",
    "\n",
    "def get_scores(run_id):\n",
    "    api = wandb.Api()\n",
    "    run = api.run(f'sinzlab/egg/{run_id}')\n",
    "    history = run.history()\n",
    "\n",
    "    return history\n"
   ],
   "metadata": {
    "collapsed": false,
    "pycharm": {
     "name": "#%%\n"
    }
   }
  },
  {
   "cell_type": "markdown",
   "source": [
    "# Task-Driven ResNet + Gaussian Readout Model"
   ],
   "metadata": {
    "collapsed": false,
    "pycharm": {
     "name": "#%% md\n"
    }
   }
  },
  {
   "cell_type": "markdown",
   "source": [
    "## Get the data\n",
    "Get the EGG MEIs (DIMEs) and GA MEIs\n",
    "\n",
    "Get the MEIs and choose the seeds which perform best on train"
   ],
   "metadata": {
    "collapsed": false,
    "pycharm": {
     "name": "#%% md\n"
    }
   }
  },
  {
   "cell_type": "code",
   "execution_count": null,
   "outputs": [],
   "source": [
    "history = get_scores('dxuyo5r1')\n",
    "idx = history.groupby(['unit_idx'])['train'].idxmin()\n",
    "dimes = history.loc[idx, ['seed', 'unit_idx', 'train', 'val', 'cross-val', 'image']]\n",
    "\n",
    "mei_history = get_scores('h83eq1s8')\n",
    "idx = mei_history.groupby(['unit_idx'])['train'].idxmin()\n",
    "meis = mei_history.loc[idx, ['seed', 'unit_idx', 'train', 'val', 'cross-val', 'image']]\n",
    "\n",
    "mei_dime = dimes.merge(meis, on='unit_idx', how='right', suffixes=['_d', '_m'])\n",
    "mei_dime = mei_dime.merge(data_driven_corrs, left_on='unit_idx', right_on='unit_id')"
   ],
   "metadata": {
    "collapsed": false,
    "pycharm": {
     "name": "#%%\n"
    }
   }
  },
  {
   "cell_type": "markdown",
   "source": [
    "## Compare activations\n",
    "*note: `cross-val_d` is stored negative*"
   ],
   "metadata": {
    "collapsed": false,
    "pycharm": {
     "name": "#%% md\n"
    }
   }
  },
  {
   "cell_type": "code",
   "execution_count": null,
   "outputs": [],
   "source": [
    "plt.figure(figsize=(8, 4))\n",
    "plt.subplot(1, 2, 1)\n",
    "plot(mei_dime['cross-val_m'], -mei_dime['cross-val_d'])\n",
    "plt.xlim(0, 40)\n",
    "plt.ylim(0, 40)\n",
    "plt.title('Cross')\n",
    "plt.xlabel('GA')\n",
    "plt.ylabel('EGG')\n",
    "\n",
    "plt.yticks([0, 10, 20, 30, 40, 50], [0, 10, 20, 30, 40, 50])\n",
    "plt.xticks([0, 10, 20, 30, 40, 50], [0, 10, 20, 30, 40, 50])\n",
    "\n",
    "plt.subplot(1, 2, 2)\n",
    "plot(mei_dime['val_m'], -mei_dime['val_d'], c=palettes['candy']['blue'])\n",
    "plt.xlim(0, 40)\n",
    "plt.ylim(0, 40)\n",
    "plt.title('Within')\n",
    "\n",
    "plt.yticks([0, 10, 20, 30, 40, 50], [''] * 6)\n",
    "plt.xticks([0, 10, 20, 30, 40, 50], [''] * 6)\n",
    "\n",
    "sns.despine(trim=True)\n",
    "plt.savefig('./activations.png', dpi=150, bbox_inches='tight')"
   ],
   "metadata": {
    "collapsed": false,
    "pycharm": {
     "name": "#%%\n"
    }
   }
  },
  {
   "cell_type": "markdown",
   "source": [
    "Check the means"
   ],
   "metadata": {
    "collapsed": false,
    "pycharm": {
     "name": "#%% md\n"
    }
   }
  },
  {
   "cell_type": "code",
   "execution_count": null,
   "outputs": [],
   "source": [
    "print(\"Within:\", np.mean(-mei_dime['val_d']), np.mean(mei_dime['val_m']))\n",
    "print(\"Cross:\", np.mean(-mei_dime['cross-val_d']), np.mean(mei_dime['cross-val_m']))"
   ],
   "metadata": {
    "collapsed": false,
    "pycharm": {
     "name": "#%%\n"
    }
   }
  },
  {
   "cell_type": "markdown",
   "source": [
    "Check if they are significant"
   ],
   "metadata": {
    "collapsed": false,
    "pycharm": {
     "name": "#%% md\n"
    }
   }
  },
  {
   "cell_type": "code",
   "execution_count": null,
   "outputs": [],
   "source": [
    "print(\"Within:\", st.wilcoxon(-mei_dime['val_d'], mei_dime['val_m']))\n",
    "print(\"Cross:\", st.wilcoxon(-mei_dime['cross-val_d'], mei_dime['cross-val_m']))"
   ],
   "metadata": {
    "collapsed": false,
    "pycharm": {
     "name": "#%%\n"
    }
   }
  },
  {
   "cell_type": "markdown",
   "source": [
    "## Plot MEI examples"
   ],
   "metadata": {
    "collapsed": false,
    "pycharm": {
     "name": "#%% md\n"
    }
   }
  },
  {
   "cell_type": "code",
   "execution_count": null,
   "outputs": [],
   "source": [
    "mei_dime['ratio'] = -mei_dime['cross-val_d'] / mei_dime['cross-val_m']\n",
    "images = history.loc[idx, ['unit_idx', 'image', 'seed']]\n",
    "\n",
    "np.random.seed(1)\n",
    "images = mei_dime.sort_values('ratio', ascending=False).head(11).iloc[1:] #mei_dime.sample(10)\n",
    "\n",
    "api = wandb.Api()\n",
    "run_d = api.run(f'sinzlab/egg/dxuyo5r1')\n",
    "run_m = api.run(f'sinzlab/egg/h83eq1s8')\n",
    "\n",
    "imgs_m = []\n",
    "imgs_d = []\n",
    "for image in images.iterrows():\n",
    "    filename_m = image[1].image_m['path']\n",
    "    filename_d = image[1].image_d['path']\n",
    "    file_m = run_m.file(filename_m)\n",
    "    file_d = run_d.file(filename_d)\n",
    "    filename_m = file_m.download(exist_ok=True).name\n",
    "    filename_d = file_d.download(exist_ok=True).name\n",
    "    _img_m = Image.open(filename_m)\n",
    "    _img_d = Image.open(filename_d)\n",
    "    imgs_m.append(_img_m)\n",
    "    imgs_d.append(_img_d)"
   ],
   "metadata": {
    "collapsed": false,
    "pycharm": {
     "name": "#%%\n"
    }
   }
  },
  {
   "cell_type": "code",
   "execution_count": null,
   "outputs": [],
   "source": [
    "img_d, img_m = np.hstack(imgs_d), np.hstack(imgs_m)\n",
    "plt.figure(figsize=(18, 3))\n",
    "plt.subplot(2, 1, 1)\n",
    "plt.imshow(img_d)\n",
    "plt.axis(False)\n",
    "\n",
    "plt.subplot(2, 1, 2)\n",
    "plt.imshow(img_m)\n",
    "plt.axis(False)\n",
    "plt.subplots_adjust(top = 1, bottom = 0, right = 1, left = 0,\n",
    "            hspace = 0, wspace = 0)\n",
    "plt.margins(0,0)\n",
    "\n",
    "plt.savefig('./diffmeis.png', dpi=150, bbox_inches='tight', pad_inches=0)\n",
    "plt.show()"
   ],
   "metadata": {
    "collapsed": false,
    "pycharm": {
     "name": "#%%\n"
    }
   }
  },
  {
   "cell_type": "code",
   "execution_count": null,
   "outputs": [],
   "source": [
    "plt.imshow(img_m)\n",
    "plt.axis(False)\n",
    "plt.subplots_adjust(top = 1, bottom = 0, right = 1, left = 0,\n",
    "            hspace = 0, wspace = 0)\n",
    "plt.margins(0,0)\n",
    "plt.savefig('./diffmei_examples.png', dpi=150, bbox_inches='tight', pad_inches=0)"
   ],
   "metadata": {
    "collapsed": false,
    "pycharm": {
     "name": "#%%\n"
    }
   }
  },
  {
   "cell_type": "markdown",
   "source": [
    "## Check compute performance"
   ],
   "metadata": {
    "collapsed": false,
    "pycharm": {
     "name": "#%% md\n"
    }
   }
  },
  {
   "cell_type": "code",
   "execution_count": null,
   "outputs": [],
   "source": [
    "api = wandb.Api()\n",
    "run = api.run(f'sinzlab/egg/fszcg6wz')\n",
    "\n",
    "time = run.history()['time']\n",
    "mu_d, se_d = time.mean(), time.std() / np.sqrt(len(time))\n",
    "\n",
    "api = wandb.Api()\n",
    "run = api.run(f'sinzlab/egg/vjcc5k8r')\n",
    "\n",
    "time = run.history()['time']\n",
    "mu_m, se_m = time.mean(), time.std() / np.sqrt(len(time))"
   ],
   "metadata": {
    "collapsed": false,
    "pycharm": {
     "name": "#%%\n"
    }
   }
  },
  {
   "cell_type": "code",
   "execution_count": null,
   "outputs": [],
   "source": [
    "sns.set_context('talk')\n",
    "plt.figure(figsize=(3, 3), dpi=150, facecolor='w')\n",
    "plt.bar([0, 1], [mu_d, mu_m], yerr=[se_d, se_m], color=[palettes['candy']['yellow'], palettes['candy']['green']], edgecolor='k', linewidth=3)\n",
    "\n",
    "plt.xlim(-0.5, 1.5)\n",
    "\n",
    "plt.xticks([-0.5, 0, 1, 1.5], ['', 'EGG', 'GA', ''])\n",
    "plt.yticks([0, 50, 100, 150, 200, 250])\n",
    "\n",
    "plt.text(0, mu_d + 5, f\"{mu_d:.0f}s $\\pm$ {se_d:.2f}\", horizontalalignment='center', fontsize=11)\n",
    "plt.text(1, mu_m + 5, f\"{mu_m:.0f}s $\\pm$ {se_m:.2f}\", horizontalalignment='center', fontsize=11)\n",
    "\n",
    "plt.ylabel('Generation time (s)')\n",
    "\n",
    "sns.despine(trim=True)\n",
    "plt.savefig('./performance.pdf', dpi=150, bbox_inches='tight')"
   ],
   "metadata": {
    "collapsed": false,
    "pycharm": {
     "name": "#%%\n"
    }
   }
  },
  {
   "cell_type": "markdown",
   "source": [
    "# Data-Driven CNN + Attention Readout Model"
   ],
   "metadata": {
    "collapsed": false,
    "pycharm": {
     "name": "#%% md\n"
    }
   }
  },
  {
   "cell_type": "markdown",
   "source": [
    "## Get Data"
   ],
   "metadata": {
    "collapsed": false,
    "pycharm": {
     "name": "#%% md\n"
    }
   }
  },
  {
   "cell_type": "code",
   "execution_count": null,
   "outputs": [],
   "source": [
    "dime_history = get_scores('ccoztu9h')\n",
    "idx = dime_history.groupby(['unit_idx'])['train'].idxmin()\n",
    "dimes = dime_history.loc[idx, ['seed', 'unit_idx', 'train', 'val', 'cross-val', 'image']]\n",
    "\n",
    "mei_history = get_scores('jk3fgqnn')\n",
    "idx = mei_history.groupby(['unit_idx'])['train'].idxmin()\n",
    "meis = mei_history.loc[idx, ['seed', 'unit_idx', 'train', 'val', 'cross-val', 'image']]\n",
    "\n",
    "mei_dime = dimes.merge(meis, on='unit_idx', how='right', suffixes=['_d', '_m'])\n",
    "mei_dime = mei_dime.merge(data_driven_corrs, left_on='unit_idx', right_on='unit_id')"
   ],
   "metadata": {
    "collapsed": false,
    "pycharm": {
     "name": "#%%\n"
    }
   }
  },
  {
   "cell_type": "markdown",
   "source": [
    "## Compare activations"
   ],
   "metadata": {
    "collapsed": false,
    "pycharm": {
     "name": "#%% md\n"
    }
   }
  },
  {
   "cell_type": "code",
   "execution_count": null,
   "outputs": [],
   "source": [
    "plt.figure(figsize=(8, 4))\n",
    "plt.subplot(1, 2, 1)\n",
    "plot(mei_dime['cross-val_m'], -mei_dime['cross-val_d'], text_y=40, c=palettes['candy']['pink'])\n",
    "plt.xlim(0, 50)\n",
    "plt.ylim(0, 50)\n",
    "plt.title('Cross')\n",
    "plt.xlabel('GA')\n",
    "plt.ylabel('EGG')\n",
    "\n",
    "plt.yticks([0, 10, 20, 30, 40, 50], [0, 10, 20, 30, 40, 50])\n",
    "plt.xticks([0, 10, 20, 30, 40, 50], [0, 10, 20, 30, 40, 50])\n",
    "\n",
    "plt.subplot(1, 2, 2)\n",
    "plot(mei_dime['val_m'], -mei_dime['val_d'], c=palettes['candy']['pink'], text_y=40)\n",
    "plt.xlim(0, 50)\n",
    "plt.ylim(0, 50)\n",
    "plt.title('Within')\n",
    "\n",
    "plt.yticks([0, 10, 20, 30, 40, 50], [''] * 6)\n",
    "plt.xticks([0, 10, 20, 30, 40, 50], [''] * 6)\n",
    "\n",
    "sns.despine(trim=True)\n",
    "plt.savefig('./activations_attn.png', dpi=150, bbox_inches='tight')"
   ],
   "metadata": {
    "collapsed": false,
    "pycharm": {
     "name": "#%%\n"
    }
   }
  },
  {
   "cell_type": "markdown",
   "source": [
    "Check the means"
   ],
   "metadata": {
    "collapsed": false,
    "pycharm": {
     "name": "#%% md\n"
    }
   }
  },
  {
   "cell_type": "code",
   "execution_count": null,
   "outputs": [],
   "source": [
    "print(\"Within:\", np.mean(-mei_dime['val_d']), np.mean(mei_dime['val_m']))\n",
    "print(\"Cross:\", np.mean(-mei_dime['cross-val_d']), np.mean(mei_dime['cross-val_m']))"
   ],
   "metadata": {
    "collapsed": false,
    "pycharm": {
     "name": "#%%\n"
    }
   }
  },
  {
   "cell_type": "markdown",
   "source": [
    "Check if they are significant"
   ],
   "metadata": {
    "collapsed": false,
    "pycharm": {
     "name": "#%% md\n"
    }
   }
  },
  {
   "cell_type": "code",
   "execution_count": null,
   "outputs": [],
   "source": [
    "print(\"Within:\", st.wilcoxon(-mei_dime['val_d'], mei_dime['val_m']))\n",
    "print(\"Cross:\", st.wilcoxon(-mei_dime['cross-val_d']), np.mean(mei_dime['cross-val_m']))"
   ],
   "metadata": {
    "collapsed": false,
    "pycharm": {
     "name": "#%%\n"
    }
   }
  },
  {
   "cell_type": "markdown",
   "source": [
    "## Get examples"
   ],
   "metadata": {
    "collapsed": false,
    "pycharm": {
     "name": "#%% md\n"
    }
   }
  },
  {
   "cell_type": "code",
   "execution_count": null,
   "outputs": [],
   "source": [
    "images = mei_dime\n",
    "images_m = images['image_m']\n",
    "images_d = images['image_d']\n",
    "\n",
    "api = wandb.Api()\n",
    "run_m = api.run(f'sinzlab/egg/jk3fgqnn')\n",
    "run_d = api.run(f'sinzlab/egg/ccoztu9h')\n",
    "\n",
    "imgs_m = []\n",
    "for image in images_m:\n",
    "    path = image['path']\n",
    "    file = run_m.file(path).download(exist_ok=True).name\n",
    "    _img_m = Image.open(file)\n",
    "    imgs_m.append(np.array(_img_m))\n",
    "\n",
    "imgs_d = []\n",
    "for image in images_d:\n",
    "    path = image['path']\n",
    "    file = run_d.file(path).download(exist_ok=True).name\n",
    "    _img_d = Image.open(file)\n",
    "    imgs_d.append(np.array(_img_d))\n",
    "\n",
    "imgs_d = np.array(imgs_d).reshape(9, 10, 480, 480, 4)\n",
    "imgs_m = np.array(imgs_m).reshape(9, 10, 480, 480, 4)"
   ],
   "metadata": {
    "collapsed": false,
    "pycharm": {
     "name": "#%%\n"
    }
   }
  },
  {
   "cell_type": "code",
   "execution_count": null,
   "outputs": [],
   "source": [
    "selected_d = np.hstack([imgs_d[7][3], imgs_d[6][7], imgs_d[5][0], imgs_d[5][1], imgs_d[5][8], imgs_d[4][6], imgs_d[8][0], imgs_d[4][8], imgs_d[6][5], imgs_d[0][5]])\n",
    "selected_m = np.hstack([imgs_m[7][3], imgs_m[6][7], imgs_m[5][0], imgs_m[5][1], imgs_m[5][8], imgs_m[4][6], imgs_m[8][0], imgs_m[4][8], imgs_m[6][5], imgs_m[0][5]])\n",
    "selected = np.vstack([selected_d, selected_m])"
   ],
   "metadata": {
    "collapsed": false,
    "pycharm": {
     "name": "#%%\n"
    }
   }
  },
  {
   "cell_type": "code",
   "execution_count": null,
   "outputs": [],
   "source": [
    "plt.figure(dpi=150, figsize=(18, 3))\n",
    "plt.imshow(selected)\n",
    "\n",
    "plt.axis(False)\n",
    "plt.subplots_adjust(top = 1, bottom = 0, right = 1, left = 0,\n",
    "            hspace = 0, wspace = 0)\n",
    "plt.margins(0,0)\n",
    "plt.savefig('./diffmei_attn.png', dpi=150, bbox_inches='tight', pad_inches=0)"
   ],
   "metadata": {
    "collapsed": false,
    "pycharm": {
     "name": "#%%\n"
    }
   }
  }
 ],
 "metadata": {
  "kernelspec": {
   "display_name": "Python 3",
   "language": "python",
   "name": "python3"
  },
  "language_info": {
   "codemirror_mode": {
    "name": "ipython",
    "version": 2
   },
   "file_extension": ".py",
   "mimetype": "text/x-python",
   "name": "python",
   "nbconvert_exporter": "python",
   "pygments_lexer": "ipython2",
   "version": "2.7.6"
  }
 },
 "nbformat": 4,
 "nbformat_minor": 0
}