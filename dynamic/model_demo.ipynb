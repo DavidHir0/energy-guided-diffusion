{
 "cells": [
  {
   "cell_type": "code",
   "execution_count": 1,
   "id": "immune-murder",
   "metadata": {},
   "outputs": [],
   "source": [
    "from utils.global_functions import *\n",
    "import numpy as np\n",
    "import matplotlib.pyplot as plt\n",
    "import os\n",
    "from models.helper_functions import get_model_and_dataloader, get_model_temp_reach, get_model_and_dataloader_for_nm\n",
    "from evaluations.single_cell_performance import get_performance_for_single_cell\n",
    "from meis.visualizer import get_model_activations\n",
    "from datasets.stas import get_cell_sta, show_sta, get_sta\n",
    "import pickle"
   ]
  },
  {
   "cell_type": "markdown",
   "id": "checked-forge",
   "metadata": {},
   "source": [
    "## Configuring which model to load"
   ]
  },
  {
   "cell_type": "code",
   "execution_count": 2,
   "id": "extended-dragon",
   "metadata": {},
   "outputs": [],
   "source": [
    "# index of the dataset\n",
    "retina_index = 1\n",
    "\n",
    "data_type = 'marmoset'\n",
    "\n",
    "# directory from which the models are loaded\n",
    "directory = f'{home}/models/factorized_4_ev_0.15_cnn/marmoset/retina{retina_index + 1}/cell_None/readout_isotropic/gmp_0/'\n",
    "\n",
    "# file of the specific model architecture\n",
    "filename = 'lr_0.0060_l_4_ch_[8, 16, 32, 64]_t_27_bs_16_tr_10_ik_27x(21, 21)x(21, 21)_hk_5x(5, 5)x(5, 5)_g_48.0000_gt_0.0740_l1_0.0230_l2_0.0000_sg_0.25_d_1_dt_1_hd_1-2-3_hdt_1-1-1_p_0_bn_1_s_1norm_0_fn_1_0_h_80_w_90'\n",
    "\n",
    "# directory to which MEIs are saved\n",
    "mei_dir = f\"{home}/meis/data/{data_type}/meni/retina{retina_index + 1}\"\n",
    "\n",
    "# seeds for the specific model architecture\n",
    "seeds = [16, 64, 8, 128]\n",
    "first_seed = seeds[0]\n",
    "\n",
    "device = 'cuda'\n",
    "model_fn = 'models.FactorizedEncoder.build_trained'\n",
    "models = {}"
   ]
  },
  {
   "cell_type": "markdown",
   "id": "ideal-albania",
   "metadata": {},
   "source": [
    "## Loading models for ensemble into a dictionary"
   ]
  },
  {
   "cell_type": "code",
   "execution_count": null,
   "id": "cooperative-physiology",
   "metadata": {},
   "outputs": [
    {
     "name": "stdout",
     "output_type": "stream",
     "text": [
      "data_dir: /usr/users/vystrcilova/retinal_circuit_modeling\n",
      "train idx: [7 6 9 1 2 8 0 3]\n",
      "val idx: [ 4 10  5]\n",
      "train responses shape:  (69, 25500, 11)\n",
      "training trials:  8 [7 6 9 1 2 8 0 3]\n",
      "validation trials:  2 [4 5]\n",
      "getting loaders\n"
     ]
    },
    {
     "name": "stderr",
     "output_type": "stream",
     "text": [
      " 79%|███████▉  | 11556/14544 [01:00<00:13, 220.07it/s]"
     ]
    }
   ],
   "source": [
    "# loading models for the given seeds \n",
    "# get_model_and_dataloader returns a tuple of (dataloader, model and config) for each seed\n",
    "# the dataloader is more or less useless for further purposes and could be ommitted but it's useful to see\n",
    "\n",
    "for seed in seeds:\n",
    "    models[seed] = get_model_and_dataloader_for_nm(\n",
    "            directory,\n",
    "            filename,\n",
    "            model_fn=model_fn,\n",
    "            device=device,\n",
    "            data_dir='/home/vystrcilova/', # if data_dir is None, root of the project is considered\n",
    "            test=False,\n",
    "            seed=seed,\n",
    "            data_type=data_type,\n",
    "        )"
   ]
  },
  {
   "cell_type": "markdown",
   "id": "talented-creation",
   "metadata": {},
   "source": [
    "## Exploring the dataloader"
   ]
  },
  {
   "cell_type": "code",
   "execution_count": null,
   "id": "raising-yugoslavia",
   "metadata": {},
   "outputs": [],
   "source": [
    "# get the dataloader for the first model (they should be all the same for all the models)\n",
    "dataloader = models[first_seed][0]\n",
    "\n",
    "# the dataloader contrains three tiers train, validation and test\n",
    "# train and validation are single trial tiers, test is averaged over multiple trials\n",
    "print(dataloader.keys())\n",
    "\n",
    "tier = 'train'\n",
    "inputs, targets = next(iter(dataloader[tier][f'0{retina_index+1}']))\n",
    "\n",
    "# the printed intput shape is (batch_size, in_channels, frames, height, width)\n",
    "# the number of frames is the number necessary to make one prediction plus time_chunk which is a parameter in the dataloader specifiyng for how many time steps the models makes predictions at once\n",
    "# the number of channels is always 1\n",
    "print(inputs.shape) \n",
    "\n",
    "# the targets shape is (batch_size, num_of_neurons, time_chunk)\n",
    "print(targets.shape)\n"
   ]
  },
  {
   "cell_type": "markdown",
   "id": "attractive-playing",
   "metadata": {},
   "source": [
    "## Exploring the model\n",
    "\n",
    "The model consists of two parts:\n",
    "* the **core** is a convolutional neural network. The core creates a shared non-linear feature space which is shared for all neurons for which we want to predict.  \n",
    "\n",
    "To avoid full 3d convolutions in every layer, every layer has two steps of 3d convolutions. First comes a spatial convolution and then a temporal. So instead of having *(out_channels x in_channels x kernel_depth x kernel_width x kernel_height)* parameters, we have *(out_channels x in_channels x 1 x kernel_width x kernel_height) + (out_channels x out_channels x kernel_depth x 1 x 1)* \n",
    "* the **readout** is then neuron specific. It picks the position where a specific neuron looks and weighs the features of the shared feature space for the given neuron.\n",
    "\n",
    "![CNN architecture](./figures/architecture.png)"
   ]
  },
  {
   "cell_type": "code",
   "execution_count": null,
   "id": "peaceful-source",
   "metadata": {},
   "outputs": [],
   "source": [
    "model_to_explore = models[first_seed][1]"
   ]
  },
  {
   "cell_type": "code",
   "execution_count": null,
   "id": "premier-centre",
   "metadata": {},
   "outputs": [],
   "source": [
    "model_to_explore"
   ]
  },
  {
   "cell_type": "code",
   "execution_count": null,
   "id": "understood-issue",
   "metadata": {},
   "outputs": [],
   "source": [
    "# cell_names are indices of cells when considering all cells and not just those that passed a reliability threshold\n",
    "# cell_indices are indices of cells when considering only cells that passed reliability threshold\n",
    "\n",
    "cell_names = get_cell_names(retina_index=1, explained_variance_threshold=0.15, config=models[first_seed][1].config_dict['config'])\n",
    "cell_indices = list(range(len(cel_names)))"
   ]
  },
  {
   "cell_type": "markdown",
   "id": "tired-pressure",
   "metadata": {},
   "source": [
    "## Checking predictive performance of a model"
   ]
  },
  {
   "cell_type": "code",
   "execution_count": null,
   "id": "complimentary-bernard",
   "metadata": {},
   "outputs": [],
   "source": [
    "correlations, all_predictions, all_responses = get_performance_for_single_cell(\n",
    "        model=models[8][1],\n",
    "        dataloaders=models[first_seed][0],\n",
    "        performance='validation',\n",
    "        device=device,\n",
    "        retina_index=1,\n",
    "        rf_size=(models[first_seed][1].config_dict[\"img_h\"], models[first_seed][1].config_dict[\"img_w\"]),\n",
    "        img_h=models[first_seed][1].config_dict[\"img_h\"],\n",
    "        img_w=models[first_seed][1].config_dict[\"img_w\"],\n",
    "    )"
   ]
  },
  {
   "cell_type": "markdown",
   "id": "extreme-suffering",
   "metadata": {},
   "source": [
    "## Creating an input array for a model"
   ]
  },
  {
   "cell_type": "code",
   "execution_count": null,
   "id": "amino-heading",
   "metadata": {},
   "outputs": [],
   "source": [
    "\n",
    "def get_initial_input(model, init_variance, num_of_predictions=1):\n",
    "    \"\"\" initializes a random 3d array that can be fed into a model to be optimized\n",
    "    param model: model for which the array is meant for\n",
    "    param init_variance: variance of the normal distribution that is used for array initialization\n",
    "    parram num of predictions: the number of predictions that the 3d array is supposed to elicit \n",
    "    \"\"\"\n",
    "    input_shape=(1, 1, get_model_temp_reach(model.config_dict)+num_of_predictions-1, inputs.shape[-2], inputs.shape[-1])\n",
    "    dist = torch.distributions.Normal(0, init_variance)\n",
    "    initial_input = dist.sample(input_shape).double()\n",
    "    return initial_input"
   ]
  },
  {
   "cell_type": "code",
   "execution_count": null,
   "id": "hired-edgar",
   "metadata": {},
   "outputs": [],
   "source": [
    "initial_input = get_initial_input(models[first_seed], init_variance=0.1, num_of_predictions=1)\n",
    "activation = get_model_activations(model, initial_input)\n",
    "\n",
    "# activation has the shape (num_of_predictions, num_of_neurons)\n",
    "print(activation.shape)\n",
    "print(activation)"
   ]
  }
 ],
 "metadata": {
  "kernelspec": {
   "display_name": "Python 3",
   "language": "python",
   "name": "python3"
  },
  "language_info": {
   "codemirror_mode": {
    "name": "ipython",
    "version": 3
   },
   "file_extension": ".py",
   "mimetype": "text/x-python",
   "name": "python",
   "nbconvert_exporter": "python",
   "pygments_lexer": "ipython3",
   "version": "3.8.6"
  }
 },
 "nbformat": 4,
 "nbformat_minor": 5
}
